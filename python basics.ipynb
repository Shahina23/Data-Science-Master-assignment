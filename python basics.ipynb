{
 "cells": [
  {
   "cell_type": "markdown",
   "id": "55924433",
   "metadata": {},
   "source": [
    "# Question 1"
   ]
  },
  {
   "cell_type": "code",
   "execution_count": 3,
   "id": "b863c0d3",
   "metadata": {},
   "outputs": [],
   "source": [
    "a =\"hello world\" #string"
   ]
  },
  {
   "cell_type": "code",
   "execution_count": 5,
   "id": "ddd98a69",
   "metadata": {},
   "outputs": [],
   "source": [
    "l=[1,2,3,4]   #list"
   ]
  },
  {
   "cell_type": "code",
   "execution_count": 6,
   "id": "8881e52c",
   "metadata": {},
   "outputs": [],
   "source": [
    "f= 2.939 #float"
   ]
  },
  {
   "cell_type": "code",
   "execution_count": 7,
   "id": "9e2afe34",
   "metadata": {},
   "outputs": [],
   "source": [
    "t=(10,20,30,40) #tuple"
   ]
  },
  {
   "cell_type": "markdown",
   "id": "939bdce7",
   "metadata": {},
   "source": [
    "# Question 2"
   ]
  },
  {
   "cell_type": "code",
   "execution_count": 9,
   "id": "a05be7bc",
   "metadata": {},
   "outputs": [
    {
     "data": {
      "text/plain": [
       "str"
      ]
     },
     "execution_count": 9,
     "metadata": {},
     "output_type": "execute_result"
    }
   ],
   "source": [
    "var1 = ''\n",
    "type(var1)"
   ]
  },
  {
   "cell_type": "code",
   "execution_count": 11,
   "id": "c436a586",
   "metadata": {},
   "outputs": [
    {
     "data": {
      "text/plain": [
       "str"
      ]
     },
     "execution_count": 11,
     "metadata": {},
     "output_type": "execute_result"
    }
   ],
   "source": [
    "var2 = '[ DS , ML , Python]'\n",
    "type(var2)"
   ]
  },
  {
   "cell_type": "code",
   "execution_count": 14,
   "id": "241113e3",
   "metadata": {},
   "outputs": [
    {
     "data": {
      "text/plain": [
       "list"
      ]
     },
     "execution_count": 14,
     "metadata": {},
     "output_type": "execute_result"
    }
   ],
   "source": [
    "var3 = [ 'DS' , 'ML' , 'Python' ]\n",
    "type(var3)"
   ]
  },
  {
   "cell_type": "code",
   "execution_count": 15,
   "id": "b9700ccb",
   "metadata": {},
   "outputs": [
    {
     "data": {
      "text/plain": [
       "int"
      ]
     },
     "execution_count": 15,
     "metadata": {},
     "output_type": "execute_result"
    }
   ],
   "source": [
    "var4 = 1\n",
    "type(var4)"
   ]
  },
  {
   "cell_type": "markdown",
   "id": "5efe6eac",
   "metadata": {},
   "source": [
    "# Question 3"
   ]
  },
  {
   "cell_type": "code",
   "execution_count": 16,
   "id": "9a06e4c6",
   "metadata": {},
   "outputs": [
    {
     "data": {
      "text/plain": [
       "5.0"
      ]
     },
     "execution_count": 16,
     "metadata": {},
     "output_type": "execute_result"
    }
   ],
   "source": [
    "25/5"
   ]
  },
  {
   "cell_type": "markdown",
   "id": "7daf0772",
   "metadata": {},
   "source": [
    "'/' operator is used for division "
   ]
  },
  {
   "cell_type": "code",
   "execution_count": 17,
   "id": "df2a87d4",
   "metadata": {},
   "outputs": [
    {
     "data": {
      "text/plain": [
       "1"
      ]
     },
     "execution_count": 17,
     "metadata": {},
     "output_type": "execute_result"
    }
   ],
   "source": [
    "10%3 "
   ]
  },
  {
   "cell_type": "markdown",
   "id": "da1574a8",
   "metadata": {},
   "source": [
    "'%' operator is used for reminder, here when we divide 3 with 10 we get 1"
   ]
  },
  {
   "cell_type": "code",
   "execution_count": 18,
   "id": "7ee484f5",
   "metadata": {},
   "outputs": [
    {
     "data": {
      "text/plain": [
       "7"
      ]
     },
     "execution_count": 18,
     "metadata": {},
     "output_type": "execute_result"
    }
   ],
   "source": [
    "15//2"
   ]
  },
  {
   "cell_type": "markdown",
   "id": "7505f88d",
   "metadata": {},
   "source": [
    "'//' is called floor divison operator when we perform divison it returns the largest integer less then or equal to the result "
   ]
  },
  {
   "cell_type": "code",
   "execution_count": 19,
   "id": "db62223b",
   "metadata": {},
   "outputs": [
    {
     "data": {
      "text/plain": [
       "8"
      ]
     },
     "execution_count": 19,
     "metadata": {},
     "output_type": "execute_result"
    }
   ],
   "source": [
    "2**3"
   ]
  },
  {
   "cell_type": "markdown",
   "id": "b34ab7ad",
   "metadata": {},
   "source": [
    "** is the power operator"
   ]
  },
  {
   "cell_type": "markdown",
   "id": "d134e0dd",
   "metadata": {},
   "source": [
    "# Question 4"
   ]
  },
  {
   "cell_type": "code",
   "execution_count": 27,
   "id": "429d5287",
   "metadata": {},
   "outputs": [
    {
     "name": "stdout",
     "output_type": "stream",
     "text": [
      "10\n",
      "<class 'int'>\n",
      "20\n",
      "<class 'int'>\n",
      "3\n",
      "<class 'int'>\n",
      "hello\n",
      "<class 'str'>\n",
      "red\n",
      "<class 'str'>\n",
      "blue\n",
      "<class 'str'>\n",
      "3.6\n",
      "<class 'float'>\n",
      "(2+6j)\n",
      "<class 'complex'>\n",
      "4.5\n",
      "<class 'float'>\n",
      "5\n",
      "<class 'int'>\n"
     ]
    }
   ],
   "source": [
    "list=[10,20,3,\"hello\",\"red\",\"blue\",3.6, 2+6j,4.5,5]\n",
    "for i in list:\n",
    "    print(i)\n",
    "    print(type(i))"
   ]
  },
  {
   "cell_type": "markdown",
   "id": "f8be367e",
   "metadata": {},
   "source": [
    "# Question 5"
   ]
  },
  {
   "cell_type": "code",
   "execution_count": 36,
   "id": "ad8a0561",
   "metadata": {},
   "outputs": [
    {
     "name": "stdout",
     "output_type": "stream",
     "text": [
      "enter the number 200\n",
      "enter 2nd number 5\n",
      "The number is divisible  2  times.\n"
     ]
    }
   ],
   "source": [
    "A=int(input(\"enter the number \"))\n",
    "B=int(input(\"enter 2nd number \"))\n",
    "count=0\n",
    "while(A%B==0):\n",
    "    A=A/B\n",
    "    count+=1\n",
    "print(\"The number is divisible \",count,\" times.\")"
   ]
  },
  {
   "cell_type": "markdown",
   "id": "941eadfe",
   "metadata": {},
   "source": [
    "# Question 6"
   ]
  },
  {
   "cell_type": "code",
   "execution_count": 41,
   "id": "0a532b17",
   "metadata": {},
   "outputs": [
    {
     "name": "stdout",
     "output_type": "stream",
     "text": [
      "1  is not divisible by 3\n",
      "2  is not divisible by 3\n",
      "3  is divisible by 3\n",
      "4  is not divisible by 3\n",
      "5  is not divisible by 3\n",
      "6  is divisible by 3\n",
      "7  is not divisible by 3\n",
      "8  is not divisible by 3\n",
      "9  is divisible by 3\n",
      "10  is not divisible by 3\n",
      "11  is not divisible by 3\n",
      "12  is divisible by 3\n",
      "13  is not divisible by 3\n",
      "14  is not divisible by 3\n",
      "15  is divisible by 3\n",
      "16  is not divisible by 3\n",
      "17  is not divisible by 3\n",
      "18  is divisible by 3\n",
      "19  is not divisible by 3\n",
      "20  is not divisible by 3\n",
      "21  is divisible by 3\n",
      "22  is not divisible by 3\n",
      "23  is not divisible by 3\n",
      "24  is divisible by 3\n",
      "25  is not divisible by 3\n"
     ]
    }
   ],
   "source": [
    "list=[1,2,3,4,5,6,7,8,9,10,11,12,13,14,15,16,17,18,19,20,21,22,23,24,25]\n",
    "for i in list:\n",
    "    print(i,\" is divisible by 3\") if(i%3==0) else print(i,\" is not divisible by 3\")"
   ]
  },
  {
   "cell_type": "markdown",
   "id": "9d6a77de",
   "metadata": {},
   "source": [
    "# Question 7"
   ]
  },
  {
   "cell_type": "markdown",
   "id": "e2597266",
   "metadata": {},
   "source": [
    "Mutable: Mutable are the data types which can be modified after they are created for example list"
   ]
  },
  {
   "cell_type": "code",
   "execution_count": 49,
   "id": "e84bd6cf",
   "metadata": {},
   "outputs": [
    {
     "name": "stdout",
     "output_type": "stream",
     "text": [
      "[10, 2, 44, 'time', 'space']\n",
      "[10, 2, 44, 'shahina', 'space']\n"
     ]
    }
   ],
   "source": [
    "list=[10,2,44,\"time\",\"space\"]\n",
    "print(list)\n",
    "list[3]=\"shahina\"\n",
    "print(list)"
   ]
  },
  {
   "cell_type": "markdown",
   "id": "5f1b1951",
   "metadata": {},
   "source": [
    "Immutable: immutable are the data types which cannot be modified for example string"
   ]
  },
  {
   "cell_type": "code",
   "execution_count": 53,
   "id": "b7a0252c",
   "metadata": {},
   "outputs": [
    {
     "data": {
      "text/plain": [
       "'p'"
      ]
     },
     "execution_count": 53,
     "metadata": {},
     "output_type": "execute_result"
    }
   ],
   "source": [
    "a=\"computer\"\n",
    "a[3]"
   ]
  },
  {
   "cell_type": "code",
   "execution_count": 54,
   "id": "baffb255",
   "metadata": {},
   "outputs": [
    {
     "ename": "TypeError",
     "evalue": "'str' object does not support item assignment",
     "output_type": "error",
     "traceback": [
      "\u001b[1;31m---------------------------------------------------------------------------\u001b[0m",
      "\u001b[1;31mTypeError\u001b[0m                                 Traceback (most recent call last)",
      "Cell \u001b[1;32mIn[54], line 1\u001b[0m\n\u001b[1;32m----> 1\u001b[0m a[\u001b[38;5;241m3\u001b[39m]\u001b[38;5;241m=\u001b[39ma\n",
      "\u001b[1;31mTypeError\u001b[0m: 'str' object does not support item assignment"
     ]
    }
   ],
   "source": [
    "a[3]=a"
   ]
  }
 ],
 "metadata": {
  "kernelspec": {
   "display_name": "Python 3 (ipykernel)",
   "language": "python",
   "name": "python3"
  },
  "language_info": {
   "codemirror_mode": {
    "name": "ipython",
    "version": 3
   },
   "file_extension": ".py",
   "mimetype": "text/x-python",
   "name": "python",
   "nbconvert_exporter": "python",
   "pygments_lexer": "ipython3",
   "version": "3.11.3"
  }
 },
 "nbformat": 4,
 "nbformat_minor": 5
}
